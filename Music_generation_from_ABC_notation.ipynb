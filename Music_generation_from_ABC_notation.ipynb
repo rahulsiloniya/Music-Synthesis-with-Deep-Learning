{
  "nbformat": 4,
  "nbformat_minor": 0,
  "metadata": {
    "colab": {
      "provenance": [],
      "gpuType": "T4",
      "mount_file_id": "1xepslWtUamCDjphr3AZOe928ak6_m_4I",
      "authorship_tag": "ABX9TyN8WNtizbLPy/DdP9mqmGsZ",
      "include_colab_link": true
    },
    "kernelspec": {
      "name": "python3",
      "display_name": "Python 3"
    },
    "language_info": {
      "name": "python"
    }
  },
  "cells": [
    {
      "cell_type": "markdown",
      "metadata": {
        "id": "view-in-github",
        "colab_type": "text"
      },
      "source": [
        "<a href=\"https://colab.research.google.com/github/rahulsiloniya/Music-Synthesis-with-Deep-Learning/blob/main/Music_generation_from_ABC_notation.ipynb\" target=\"_parent\"><img src=\"https://colab.research.google.com/assets/colab-badge.svg\" alt=\"Open In Colab\"/></a>"
      ]
    },
    {
      "cell_type": "markdown",
      "source": [
        "# Music generation using RNN Model"
      ],
      "metadata": {
        "id": "tGbO9qACpHea"
      }
    },
    {
      "cell_type": "markdown",
      "source": [
        "Import all python modules and MIT deep learning library."
      ],
      "metadata": {
        "id": "0qDBtgk0pR4Z"
      }
    },
    {
      "cell_type": "code",
      "source": [
        "from IPython.display import display"
      ],
      "metadata": {
        "id": "YuitcTif4oG2"
      },
      "execution_count": 323,
      "outputs": []
    },
    {
      "cell_type": "code",
      "execution_count": 324,
      "metadata": {
        "id": "lSmILXqnm4HA"
      },
      "outputs": [],
      "source": [
        "import tensorflow as tf\n",
        "\n",
        "!pip install mitdeeplearning > /dev/null 2>&1\n",
        "import mitdeeplearning as mdl\n",
        "\n",
        "import numpy as np\n",
        "from tqdm import tqdm\n",
        "import time\n",
        "import os\n",
        "import functools"
      ]
    },
    {
      "cell_type": "code",
      "source": [
        "import warnings\n",
        "warnings.filterwarnings(action='ignore')"
      ],
      "metadata": {
        "id": "sw8RHCD9qrpP"
      },
      "execution_count": 325,
      "outputs": []
    },
    {
      "cell_type": "markdown",
      "source": [
        "Install package to convert ABC music notation to MIDI music files."
      ],
      "metadata": {
        "id": "iZZ59yLZpZ-D"
      }
    },
    {
      "cell_type": "code",
      "source": [
        "# !apt-get install abcmidi timidity > /dev/null 2>&1"
      ],
      "metadata": {
        "id": "EOKRdktQoMwm"
      },
      "execution_count": 326,
      "outputs": []
    },
    {
      "cell_type": "markdown",
      "source": [
        "Download data"
      ],
      "metadata": {
        "id": "97O_-zOtqAfA"
      }
    },
    {
      "cell_type": "code",
      "source": [
        "songs = mdl.lab1.load_training_data()"
      ],
      "metadata": {
        "colab": {
          "base_uri": "https://localhost:8080/"
        },
        "id": "ihKdkDZSqEmU",
        "outputId": "6cd609df-ce14-4ca6-db09-f5a9444b7198"
      },
      "execution_count": 327,
      "outputs": [
        {
          "output_type": "stream",
          "name": "stdout",
          "text": [
            "Found 817 songs in text\n"
          ]
        }
      ]
    },
    {
      "cell_type": "code",
      "source": [
        "print(type(songs))\n",
        "print(type(songs[0]))"
      ],
      "metadata": {
        "colab": {
          "base_uri": "https://localhost:8080/"
        },
        "id": "F6P4zoGiqXKu",
        "outputId": "319c4350-a81e-4f0d-fa8f-7a19fefc5a60"
      },
      "execution_count": 328,
      "outputs": [
        {
          "output_type": "stream",
          "name": "stdout",
          "text": [
            "<class 'list'>\n",
            "<class 'str'>\n"
          ]
        }
      ]
    },
    {
      "cell_type": "markdown",
      "source": [
        "Here we have textual data in ABC notation which represents Irish folk music. It is provided as a list of strings as input in the mdl module. It also provides functions to convert it into audio files."
      ],
      "metadata": {
        "id": "s-pScTCBq4kY"
      }
    },
    {
      "cell_type": "code",
      "source": [
        "# mdl.lab1.play_song(songs[0])"
      ],
      "metadata": {
        "id": "cFF71ICcrDop"
      },
      "execution_count": 329,
      "outputs": []
    },
    {
      "cell_type": "markdown",
      "source": [
        "The number of unique characters affect the complexity of the problem at hand. Counting the number of unique characters will provide us some basic insight."
      ],
      "metadata": {
        "id": "RlEksQOKuszu"
      }
    },
    {
      "cell_type": "code",
      "source": [
        "# compile all songs in one string\n",
        "\n",
        "songs_compiled = '\\n\\n'.join(songs)\n",
        "vocab = sorted(set(songs_compiled))\n",
        "print('Total unique characters : ', len(vocab))"
      ],
      "metadata": {
        "colab": {
          "base_uri": "https://localhost:8080/"
        },
        "id": "CTKIoanRucZR",
        "outputId": "3ab3bd12-17b7-4e3a-e54f-f62537322c07"
      },
      "execution_count": 330,
      "outputs": [
        {
          "output_type": "stream",
          "name": "stdout",
          "text": [
            "Total unique characters :  83\n"
          ]
        }
      ]
    },
    {
      "cell_type": "markdown",
      "source": [
        "Since the ABC notation is a textual data, we need to vectorize it to create a numerical representation of the input."
      ],
      "metadata": {
        "id": "La9-Ty9Q9xAj"
      }
    },
    {
      "cell_type": "code",
      "source": [
        "char2index = {u:i for i, u in enumerate(vocab)}\n",
        "index2char = np.array(vocab)\n",
        "print(char2index)\n",
        "print(index2char)"
      ],
      "metadata": {
        "colab": {
          "base_uri": "https://localhost:8080/"
        },
        "id": "QJdzAOp_vtEy",
        "outputId": "31b963d4-c85c-4afd-8b1e-a8be2396f0fa"
      },
      "execution_count": 331,
      "outputs": [
        {
          "output_type": "stream",
          "name": "stdout",
          "text": [
            "{'\\n': 0, ' ': 1, '!': 2, '\"': 3, '#': 4, \"'\": 5, '(': 6, ')': 7, ',': 8, '-': 9, '.': 10, '/': 11, '0': 12, '1': 13, '2': 14, '3': 15, '4': 16, '5': 17, '6': 18, '7': 19, '8': 20, '9': 21, ':': 22, '<': 23, '=': 24, '>': 25, 'A': 26, 'B': 27, 'C': 28, 'D': 29, 'E': 30, 'F': 31, 'G': 32, 'H': 33, 'I': 34, 'J': 35, 'K': 36, 'L': 37, 'M': 38, 'N': 39, 'O': 40, 'P': 41, 'Q': 42, 'R': 43, 'S': 44, 'T': 45, 'U': 46, 'V': 47, 'W': 48, 'X': 49, 'Y': 50, 'Z': 51, '[': 52, ']': 53, '^': 54, '_': 55, 'a': 56, 'b': 57, 'c': 58, 'd': 59, 'e': 60, 'f': 61, 'g': 62, 'h': 63, 'i': 64, 'j': 65, 'k': 66, 'l': 67, 'm': 68, 'n': 69, 'o': 70, 'p': 71, 'q': 72, 'r': 73, 's': 74, 't': 75, 'u': 76, 'v': 77, 'w': 78, 'x': 79, 'y': 80, 'z': 81, '|': 82}\n",
            "['\\n' ' ' '!' '\"' '#' \"'\" '(' ')' ',' '-' '.' '/' '0' '1' '2' '3' '4' '5'\n",
            " '6' '7' '8' '9' ':' '<' '=' '>' 'A' 'B' 'C' 'D' 'E' 'F' 'G' 'H' 'I' 'J'\n",
            " 'K' 'L' 'M' 'N' 'O' 'P' 'Q' 'R' 'S' 'T' 'U' 'V' 'W' 'X' 'Y' 'Z' '[' ']'\n",
            " '^' '_' 'a' 'b' 'c' 'd' 'e' 'f' 'g' 'h' 'i' 'j' 'k' 'l' 'm' 'n' 'o' 'p'\n",
            " 'q' 'r' 's' 't' 'u' 'v' 'w' 'x' 'y' 'z' '|']\n"
          ]
        }
      ]
    },
    {
      "cell_type": "markdown",
      "source": [
        "Now that we have numerical mappings for characters in the input data. Let's vectorize the whole input."
      ],
      "metadata": {
        "id": "jpiOao0LAGwA"
      }
    },
    {
      "cell_type": "code",
      "source": [
        "def vectorize_song(songs_compiled):\n",
        "  output = []\n",
        "  for ch in songs_compiled:\n",
        "    output.append(char2index[ch])\n",
        "  return np.array(output)\n",
        "\n",
        "vectorized_songs = vectorize_song(songs_compiled)\n"
      ],
      "metadata": {
        "id": "b4o4TO7S_z0d"
      },
      "execution_count": 332,
      "outputs": []
    },
    {
      "cell_type": "code",
      "source": [
        "print(type(vectorized_songs[0]))"
      ],
      "metadata": {
        "colab": {
          "base_uri": "https://localhost:8080/"
        },
        "id": "ngz0RmW5Ep3h",
        "outputId": "a2f7ff98-8532-46fe-c287-c09acb844ab6"
      },
      "execution_count": 333,
      "outputs": [
        {
          "output_type": "stream",
          "name": "stdout",
          "text": [
            "<class 'numpy.int64'>\n"
          ]
        }
      ]
    },
    {
      "cell_type": "code",
      "source": [
        "def get_batch(vectorized_songs, seq_length, batch_size):\n",
        "  n = len(vectorized_songs)\n",
        "  rng = np.random.default_rng()\n",
        "  index = rng.choice(n - seq_length - 1, batch_size)\n",
        "  input_batch = np.ndarray(shape=(batch_size, seq_length)) # , dtype=np.int64)\n",
        "  output_batch = np.ndarray(shape=(batch_size, seq_length)) # , dtype=np.int64)\n",
        "\n",
        "  for i in range(batch_size):\n",
        "    input_batch[i] = vectorized_songs[index[i]:index[i] + seq_length]\n",
        "    output_batch[i] = vectorized_songs[index[i] + 1: index[i] + seq_length + 1]\n",
        "\n",
        "  return input_batch, output_batch\n",
        "  # return x_batch, y_batch\n",
        "\n",
        "# Perform some simple tests to make sure your batch function is working properly!\n",
        "test_args = (vectorized_songs, 10, 2)\n",
        "if not mdl.lab1.test_batch_func_types(get_batch, test_args) or \\\n",
        "   not mdl.lab1.test_batch_func_shapes(get_batch, test_args) or \\\n",
        "   not mdl.lab1.test_batch_func_next_step(get_batch, test_args):\n",
        "   print(\"======\\n[FAIL] could not pass tests\")\n",
        "else:\n",
        "   print(\"======\\n[PASS] passed all tests!\")"
      ],
      "metadata": {
        "colab": {
          "base_uri": "https://localhost:8080/"
        },
        "id": "DwVFTNE_GH2S",
        "outputId": "c7e5cafe-58eb-48e1-c949-30dc69bfaae4"
      },
      "execution_count": 334,
      "outputs": [
        {
          "output_type": "stream",
          "name": "stdout",
          "text": [
            "[PASS] test_batch_func_types\n",
            "[PASS] test_batch_func_shapes\n",
            "[PASS] test_batch_func_next_step\n",
            "======\n",
            "[PASS] passed all tests!\n"
          ]
        }
      ]
    },
    {
      "cell_type": "markdown",
      "source": [
        "Now that we have our data prepared for feeding into a deep learning model. We can start working on an actual prediction model. We will implement Recurrent Neural Network model using LSTM (Long Short Term Memory) architecture.\n",
        "We will use Sequential API and implement the following layers in our model:\n",
        "\n",
        "- Embedding layer - this layer converts integer index values into fixed length dense vectors.\n",
        "- LSTM - this is the RNN layer which learns the pattern given in the input sequence.\n",
        "- Dense - after the LSTM layer, we spread its output into dense layer to expand its learning ability."
      ],
      "metadata": {
        "id": "m-DHHztSCRRP"
      }
    },
    {
      "cell_type": "code",
      "source": [
        "class Index(tf.keras.layers.Layer):\n",
        "  def __init__(self, index2char):\n",
        "    super(Index, self).__init__()\n",
        "    self.index2char = index2char\n",
        "\n",
        "  def call(self, inputs):\n",
        "    # print('inputs : ', inputs)\n",
        "    indices = tf.map_fn(self.convert_to_char, inputs, dtype=tf.float32)\n",
        "    # print('indices : ', indices)\n",
        "    return indices\n",
        "\n",
        "  def intcast(self, a):\n",
        "    return tf.cast(a, tf.float32)\n",
        "\n",
        "  def convert_to_char(self, index):\n",
        "    # Function to convert an index tensor to a string (character) tensor using index2char mapping\n",
        "    ind = tf.random.categorical(index, num_samples=1)\n",
        "    ind = tf.squeeze(ind, axis=-1)\n",
        "    ind = tf.map_fn(self.intcast, ind, dtype=tf.float32)\n",
        "    print('ind: ', ind)\n",
        "    return ind\n",
        "\n",
        "def build_model(vocab_size, embedding_dim, rnn_units, batch_size):\n",
        "  model = tf.keras.Sequential()\n",
        "\n",
        "  model.add(tf.keras.layers.Embedding(\n",
        "      input_dim=vocab_size, output_dim=embedding_dim, batch_input_shape=[batch_size, None]\n",
        "  ))\n",
        "\n",
        "  model.add(tf.keras.layers.LSTM(\n",
        "      rnn_units,\n",
        "      return_sequences=True,\n",
        "      recurrent_initializer='glorot_uniform',\n",
        "      recurrent_activation='sigmoid',\n",
        "      stateful=True\n",
        "  ))\n",
        "\n",
        "  model.add(tf.keras.layers.Dense(vocab_size))\n",
        "  model.add(Index(index2char))\n",
        "  # model.add(tf.keras.layers.)\n",
        "\n",
        "  return model\n",
        "\n",
        "model = build_model(len(vocab), 256, 1024, 32)"
      ],
      "metadata": {
        "id": "LIpv_93I9Ed3",
        "colab": {
          "base_uri": "https://localhost:8080/"
        },
        "outputId": "6c0de1a0-2379-4690-f09b-b9155ba26a22"
      },
      "execution_count": 335,
      "outputs": [
        {
          "output_type": "stream",
          "name": "stdout",
          "text": [
            "ind:  Tensor(\"index_110/map/while/map/TensorArrayV2Stack/TensorListStack:0\", shape=(None,), dtype=float32)\n"
          ]
        }
      ]
    },
    {
      "cell_type": "code",
      "source": [
        "model.summary()"
      ],
      "metadata": {
        "colab": {
          "base_uri": "https://localhost:8080/"
        },
        "id": "gCLn3CT3OmgG",
        "outputId": "d95d3e82-010f-43c4-a5e3-4bf28480ed43"
      },
      "execution_count": 336,
      "outputs": [
        {
          "output_type": "stream",
          "name": "stdout",
          "text": [
            "Model: \"sequential_117\"\n",
            "_________________________________________________________________\n",
            " Layer (type)                Output Shape              Param #   \n",
            "=================================================================\n",
            " embedding_117 (Embedding)   (32, None, 256)           21248     \n",
            "                                                                 \n",
            " lstm_117 (LSTM)             (32, None, 1024)          5246976   \n",
            "                                                                 \n",
            " dense_117 (Dense)           (32, None, 83)            85075     \n",
            "                                                                 \n",
            " index_110 (Index)           (32, None)                0         \n",
            "                                                                 \n",
            "=================================================================\n",
            "Total params: 5,353,299\n",
            "Trainable params: 5,353,299\n",
            "Non-trainable params: 0\n",
            "_________________________________________________________________\n"
          ]
        }
      ]
    },
    {
      "cell_type": "code",
      "source": [
        "tf.keras.utils.plot_model(model, show_shapes=True)"
      ],
      "metadata": {
        "colab": {
          "base_uri": "https://localhost:8080/",
          "height": 533
        },
        "id": "N-40KMS_O2qX",
        "outputId": "e0dbe306-0052-4b67-a870-9c8c977fa70c"
      },
      "execution_count": 337,
      "outputs": [
        {
          "output_type": "execute_result",
          "data": {
            "image/png": "[encoded data removed]",
            "text/plain": [
              "<IPython.core.display.Image object>"
            ]
          },
          "metadata": {},
          "execution_count": 337
        }
      ]
    },
    {
      "cell_type": "markdown",
      "source": [
        "Add an extra layer in the model which takes the input from the dense layer and returns index of sequence length."
      ],
      "metadata": {
        "id": "YR-vbcfahqoj"
      }
    },
    {
      "cell_type": "code",
      "source": [
        "model = build_model(len(vocab), 256, 1024, 10)\n",
        "X, y = get_batch(vectorized_songs, 2, 10)\n",
        "pred = model.predict(X)\n",
        "print(\"Input shape:      \", X.shape, \" # (batch_size, sequence_length)\")\n",
        "print(\"Prediction shape: \", pred.shape, \"# (batch_size, sequence_length, vocab_size)\")\n",
        "print(y)\n",
        "print(pred)"
      ],
      "metadata": {
        "colab": {
          "base_uri": "https://localhost:8080/"
        },
        "id": "sMUxn36_1b4Y",
        "outputId": "e61aad41-3032-4083-b288-d9c016f5e882"
      },
      "execution_count": 338,
      "outputs": [
        {
          "output_type": "stream",
          "name": "stdout",
          "text": [
            "ind:  Tensor(\"index_111/map/while/map/TensorArrayV2Stack/TensorListStack:0\", shape=(None,), dtype=float32)\n",
            "ind:  Tensor(\"sequential_118/index_111/map/while/map/TensorArrayV2Stack/TensorListStack:0\", shape=(2,), dtype=float32)\n",
            "1/1 [==============================] - 1s 1s/step\n",
            "Input shape:       (10, 2)  # (batch_size, sequence_length)\n",
            "Prediction shape:  (10, 2) # (batch_size, sequence_length, vocab_size)\n",
            "[[82.  2.]\n",
            " [14. 22.]\n",
            " [58. 60.]\n",
            " [60.  9.]\n",
            " [ 2.  0.]\n",
            " [56. 65.]\n",
            " [ 1. 32.]\n",
            " [59. 22.]\n",
            " [ 1. 58.]\n",
            " [62. 57.]]\n",
            "[[36. 78.]\n",
            " [ 7. 46.]\n",
            " [24. 81.]\n",
            " [48. 40.]\n",
            " [78. 77.]\n",
            " [80. 67.]\n",
            " [75. 56.]\n",
            " [21. 67.]\n",
            " [45. 81.]\n",
            " [41. 41.]]\n"
          ]
        }
      ]
    },
    {
      "cell_type": "code",
      "source": [
        "# print(X)\n",
        "print(y.shape)\n",
        "print(y)\n",
        "print(pred.shape)\n",
        "print(pred)\n",
        "# for i in pred:\n",
        "#   print(i.shape)\n",
        "#   sampled_indices = tf.random.categorical(i, num_samples=1)\n",
        "#   sampled_indices = tf.squeeze(sampled_indices,axis=-1).numpy\n",
        "#   # sampled_indices.numpy\n",
        "\n",
        "#   print(sampled_indices)"
      ],
      "metadata": {
        "colab": {
          "base_uri": "https://localhost:8080/"
        },
        "id": "5S6P0xh51exg",
        "outputId": "5105ac2a-d7de-48cc-e7c5-05eb604369e2"
      },
      "execution_count": 339,
      "outputs": [
        {
          "output_type": "stream",
          "name": "stdout",
          "text": [
            "(10, 2)\n",
            "[[82.  2.]\n",
            " [14. 22.]\n",
            " [58. 60.]\n",
            " [60.  9.]\n",
            " [ 2.  0.]\n",
            " [56. 65.]\n",
            " [ 1. 32.]\n",
            " [59. 22.]\n",
            " [ 1. 58.]\n",
            " [62. 57.]]\n",
            "(10, 2)\n",
            "[[36. 78.]\n",
            " [ 7. 46.]\n",
            " [24. 81.]\n",
            " [48. 40.]\n",
            " [78. 77.]\n",
            " [80. 67.]\n",
            " [75. 56.]\n",
            " [21. 67.]\n",
            " [45. 81.]\n",
            " [41. 41.]]\n"
          ]
        }
      ]
    },
    {
      "cell_type": "markdown",
      "source": [
        "Defining hyperparameters for training model.\n",
        "- epochs: the number of iterations over whole data\n",
        "- batch_size: the size of each minibatch i.e. the number of random indices from input\n",
        "- learning_rate: learning rate or alpha"
      ],
      "metadata": {
        "id": "6k-GY3BP5a5D"
      }
    },
    {
      "cell_type": "code",
      "source": [
        "epochs = 2000\n",
        "batch_size = 4\n",
        "seq_length = 10\n",
        "learning_rate = 1e-3\n",
        "\n",
        "vocab_size = len(vocab)\n",
        "embedding_dim = 256\n",
        "rnn_units = 1024\n",
        "\n",
        "model = build_model(vocab_size, embedding_dim, rnn_units, batch_size)\n",
        "print('Model built')\n",
        "model.compile(loss=tf.keras.losses.SparseCategoricalCrossentropy(from_logits=False),\n",
        "              metrics='sparse_categorical_accuracy',  # sparse_categorical_accuracy\n",
        "              optimizer='Adam')\n",
        "\n",
        "for i in range(epochs):\n",
        "  x, y = get_batch(vectorized_songs, seq_length, batch_size)\n",
        "  # print(x)\n",
        "  # print(y)\n",
        "\n",
        "  # print(model.layers[0].output)\n",
        "  # print(model.layers[1].output)\n",
        "  # model.fit(x, y, batch_size=batch_size)\n",
        "\n",
        "\n",
        "res = model.predict(np.array([[22, 26, 67, 64, 18]]))\n",
        "res1 = model.predict(np.array([[22]]))\n",
        "# res = res.squeeze\n",
        "print(res)\n",
        "print(res1)"
      ],
      "metadata": {
        "id": "3QKsdxoZ5ZIm",
        "colab": {
          "base_uri": "https://localhost:8080/"
        },
        "outputId": "0faae47f-849e-4c1b-a0db-c76c852949ac"
      },
      "execution_count": 355,
      "outputs": [
        {
          "output_type": "stream",
          "name": "stdout",
          "text": [
            "ind:  Tensor(\"index_127/map/while/map/TensorArrayV2Stack/TensorListStack:0\", shape=(None,), dtype=float32)\n",
            "Model built\n",
            "ind:  Tensor(\"sequential_134/index_127/map/while/map/TensorArrayV2Stack/TensorListStack:0\", shape=(5,), dtype=float32)\n",
            "1/1 [==============================] - 1s 965ms/step\n",
            "ind:  Tensor(\"sequential_134/index_127/map/while/map/TensorArrayV2Stack/TensorListStack:0\", shape=(None,), dtype=float32)\n",
            "1/1 [==============================] - 1s 601ms/step\n",
            "[[ 6. 47. 19. 65. 20.]\n",
            " [14. 73. 56.  0. 59.]\n",
            " [23. 57. 13. 68. 61.]\n",
            " [74. 69. 64. 68. 38.]]\n",
            "[[68.]\n",
            " [ 7.]\n",
            " [56.]\n",
            " [43.]]\n"
          ]
        }
      ]
    }
  ]
}