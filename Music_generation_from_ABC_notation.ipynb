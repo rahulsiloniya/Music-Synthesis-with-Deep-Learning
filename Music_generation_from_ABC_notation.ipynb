{
  "nbformat": 4,
  "nbformat_minor": 0,
  "metadata": {
    "colab": {
      "provenance": [],
      "gpuType": "T4",
      "mount_file_id": "1xepslWtUamCDjphr3AZOe928ak6_m_4I",
      "authorship_tag": "ABX9TyMnoGokFqlUoXDSISfge8q4",
      "include_colab_link": true
    },
    "kernelspec": {
      "name": "python3",
      "display_name": "Python 3"
    },
    "language_info": {
      "name": "python"
    },
    "accelerator": "GPU"
  },
  "cells": [
    {
      "cell_type": "markdown",
      "metadata": {
        "id": "view-in-github",
        "colab_type": "text"
      },
      "source": [
        "<a href=\"https://colab.research.google.com/github/rahulsiloniya/Music-Synthesis-with-Deep-Learning/blob/main/Music_generation_from_ABC_notation.ipynb\" target=\"_parent\"><img src=\"https://colab.research.google.com/assets/colab-badge.svg\" alt=\"Open In Colab\"/></a>"
      ]
    },
    {
      "cell_type": "markdown",
      "source": [
        "# Music generation using RNN Model"
      ],
      "metadata": {
        "id": "tGbO9qACpHea"
      }
    },
    {
      "cell_type": "markdown",
      "source": [
        "Import all python modules and MIT deep learning library."
      ],
      "metadata": {
        "id": "0qDBtgk0pR4Z"
      }
    },
    {
      "cell_type": "code",
      "source": [
        "from IPython.display import display"
      ],
      "metadata": {
        "id": "YuitcTif4oG2"
      },
      "execution_count": null,
      "outputs": []
    },
    {
      "cell_type": "code",
      "execution_count": null,
      "metadata": {
        "colab": {
          "base_uri": "https://localhost:8080/"
        },
        "id": "lSmILXqnm4HA",
        "outputId": "0c273571-5a7b-4db7-ae11-2cee5e20c6c1"
      },
      "outputs": [
        {
          "output_type": "stream",
          "name": "stdout",
          "text": [
            "Collecting mitdeeplearning\n",
            "  Downloading mitdeeplearning-0.3.0.tar.gz (2.1 MB)\n",
            "\u001b[?25l     \u001b[90m━━━━━━━━━━━━━━━━━━━━━━━━━━━━━━━━━━━━━━━━\u001b[0m \u001b[32m0.0/2.1 MB\u001b[0m \u001b[31m?\u001b[0m eta \u001b[36m-:--:--\u001b[0m\r\u001b[2K     \u001b[91m━━━━━━━━━━━━━━━\u001b[0m\u001b[90m╺\u001b[0m\u001b[90m━━━━━━━━━━━━━━━━━━━━━━━━\u001b[0m \u001b[32m0.8/2.1 MB\u001b[0m \u001b[31m25.2 MB/s\u001b[0m eta \u001b[36m0:00:01\u001b[0m\r\u001b[2K     \u001b[91m━━━━━━━━━━━━━━━━━━━━━━━━━━━━━━━━━━━━━━━\u001b[0m\u001b[91m╸\u001b[0m \u001b[32m2.1/2.1 MB\u001b[0m \u001b[31m30.2 MB/s\u001b[0m eta \u001b[36m0:00:01\u001b[0m\r\u001b[2K     \u001b[91m━━━━━━━━━━━━━━━━━━━━━━━━━━━━━━━━━━━━━━━\u001b[0m\u001b[91m╸\u001b[0m \u001b[32m2.1/2.1 MB\u001b[0m \u001b[31m30.2 MB/s\u001b[0m eta \u001b[36m0:00:01\u001b[0m\r\u001b[2K     \u001b[90m━━━━━━━━━━━━━━━━━━━━━━━━━━━━━━━━━━━━━━━━\u001b[0m \u001b[32m2.1/2.1 MB\u001b[0m \u001b[31m18.6 MB/s\u001b[0m eta \u001b[36m0:00:00\u001b[0m\n",
            "\u001b[?25h  Preparing metadata (setup.py) ... \u001b[?25l\u001b[?25hdone\n",
            "Requirement already satisfied: numpy in /usr/local/lib/python3.10/dist-packages (from mitdeeplearning) (1.22.4)\n",
            "Requirement already satisfied: regex in /usr/local/lib/python3.10/dist-packages (from mitdeeplearning) (2022.10.31)\n",
            "Requirement already satisfied: tqdm in /usr/local/lib/python3.10/dist-packages (from mitdeeplearning) (4.65.0)\n",
            "Requirement already satisfied: gym in /usr/local/lib/python3.10/dist-packages (from mitdeeplearning) (0.25.2)\n",
            "Requirement already satisfied: cloudpickle>=1.2.0 in /usr/local/lib/python3.10/dist-packages (from gym->mitdeeplearning) (2.2.1)\n",
            "Requirement already satisfied: gym-notices>=0.0.4 in /usr/local/lib/python3.10/dist-packages (from gym->mitdeeplearning) (0.0.8)\n",
            "Building wheels for collected packages: mitdeeplearning\n",
            "  Building wheel for mitdeeplearning (setup.py) ... \u001b[?25l\u001b[?25hdone\n",
            "  Created wheel for mitdeeplearning: filename=mitdeeplearning-0.3.0-py3-none-any.whl size=2117305 sha256=f7976157f551b33903f6fe7d30a5a4eccd67548a53f8d20737682ee12b448e2f\n",
            "  Stored in directory: /root/.cache/pip/wheels/9c/9f/b5/0e31f83bc60a83625e37429f923934e26802d0d68cf3ef3216\n",
            "Successfully built mitdeeplearning\n",
            "Installing collected packages: mitdeeplearning\n",
            "Successfully installed mitdeeplearning-0.3.0\n"
          ]
        }
      ],
      "source": [
        "import tensorflow as tf\n",
        "\n",
        "!pip install mitdeeplearning > /dev/null 2>&1\n",
        "import mitdeeplearning as mdl\n",
        "\n",
        "import numpy as np\n",
        "from tqdm import tqdm\n",
        "import time\n",
        "import os\n",
        "import functools"
      ]
    },
    {
      "cell_type": "code",
      "source": [
        "import warnings\n",
        "warnings.filterwarnings(action='ignore')"
      ],
      "metadata": {
        "colab": {
          "base_uri": "https://localhost:8080/"
        },
        "id": "sw8RHCD9qrpP",
        "outputId": "1caec6e4-39dd-4ecd-bf91-50cdba4f999b"
      },
      "execution_count": null,
      "outputs": [
        {
          "output_type": "stream",
          "name": "stderr",
          "text": [
            "/usr/local/lib/python3.10/dist-packages/ipykernel/ipkernel.py:283: DeprecationWarning: `should_run_async` will not call `transform_cell` automatically in the future. Please pass the result to `transformed_cell` argument and any exception that happen during thetransform in `preprocessing_exc_tuple` in IPython 7.17 and above.\n",
            "  and should_run_async(code)\n"
          ]
        }
      ]
    },
    {
      "cell_type": "markdown",
      "source": [
        "Install package to convert ABC music notation to MIDI music files."
      ],
      "metadata": {
        "id": "iZZ59yLZpZ-D"
      }
    },
    {
      "cell_type": "code",
      "source": [
        "!apt-get install abcmidi timidity > /dev/null 2>&1"
      ],
      "metadata": {
        "id": "EOKRdktQoMwm"
      },
      "execution_count": null,
      "outputs": []
    },
    {
      "cell_type": "markdown",
      "source": [
        "Download data"
      ],
      "metadata": {
        "id": "97O_-zOtqAfA"
      }
    },
    {
      "cell_type": "code",
      "source": [
        "songs = mdl.lab1.load_training_data()"
      ],
      "metadata": {
        "colab": {
          "base_uri": "https://localhost:8080/"
        },
        "id": "ihKdkDZSqEmU",
        "outputId": "2d21209d-2a45-4519-fc1e-bdf2bbdc69c2"
      },
      "execution_count": null,
      "outputs": [
        {
          "output_type": "stream",
          "name": "stdout",
          "text": [
            "Found 817 songs in text\n"
          ]
        }
      ]
    },
    {
      "cell_type": "code",
      "source": [
        "print(type(songs))\n",
        "print(type(songs[0]))"
      ],
      "metadata": {
        "colab": {
          "base_uri": "https://localhost:8080/"
        },
        "id": "F6P4zoGiqXKu",
        "outputId": "2410cf08-9110-43fe-e5b2-42a78aec190b"
      },
      "execution_count": null,
      "outputs": [
        {
          "output_type": "stream",
          "name": "stdout",
          "text": [
            "<class 'list'>\n",
            "<class 'str'>\n"
          ]
        }
      ]
    },
    {
      "cell_type": "markdown",
      "source": [
        "Here we have textual data in ABC notation which represents Irish folk music. It is provided as a list of strings as input in the mdl module. It also provides functions to convert it into audio files."
      ],
      "metadata": {
        "id": "s-pScTCBq4kY"
      }
    },
    {
      "cell_type": "code",
      "source": [
        "# mdl.lab1.play_song(songs[0])"
      ],
      "metadata": {
        "id": "cFF71ICcrDop"
      },
      "execution_count": null,
      "outputs": []
    },
    {
      "cell_type": "markdown",
      "source": [
        "The number of unique characters affect the complexity of the problem at hand. Counting the number of unique characters will provide us some basic insight."
      ],
      "metadata": {
        "id": "RlEksQOKuszu"
      }
    },
    {
      "cell_type": "code",
      "source": [
        "# compile all songs in one string\n",
        "\n",
        "songs_compiled = '\\n\\n'.join(songs)\n",
        "vocab = sorted(set(songs_compiled))\n",
        "print('Total unique characters : ', len(vocab))"
      ],
      "metadata": {
        "colab": {
          "base_uri": "https://localhost:8080/"
        },
        "id": "CTKIoanRucZR",
        "outputId": "3d9743ab-3963-4f5a-f9e5-066dd2970dfb"
      },
      "execution_count": null,
      "outputs": [
        {
          "output_type": "stream",
          "name": "stdout",
          "text": [
            "Total unique characters :  83\n"
          ]
        }
      ]
    },
    {
      "cell_type": "markdown",
      "source": [
        "Since the ABC notation is a textual data, we need to vectorize it to create a numerical representation of the input."
      ],
      "metadata": {
        "id": "La9-Ty9Q9xAj"
      }
    },
    {
      "cell_type": "code",
      "source": [
        "char2index = {u:i for i, u in enumerate(vocab)}\n",
        "index2char = np.array(vocab)\n",
        "print(char2index)\n",
        "print(index2char)"
      ],
      "metadata": {
        "colab": {
          "base_uri": "https://localhost:8080/"
        },
        "id": "QJdzAOp_vtEy",
        "outputId": "9158d02a-fe3f-4e40-ab5b-f48ef190f076"
      },
      "execution_count": null,
      "outputs": [
        {
          "output_type": "stream",
          "name": "stdout",
          "text": [
            "{'\\n': 0, ' ': 1, '!': 2, '\"': 3, '#': 4, \"'\": 5, '(': 6, ')': 7, ',': 8, '-': 9, '.': 10, '/': 11, '0': 12, '1': 13, '2': 14, '3': 15, '4': 16, '5': 17, '6': 18, '7': 19, '8': 20, '9': 21, ':': 22, '<': 23, '=': 24, '>': 25, 'A': 26, 'B': 27, 'C': 28, 'D': 29, 'E': 30, 'F': 31, 'G': 32, 'H': 33, 'I': 34, 'J': 35, 'K': 36, 'L': 37, 'M': 38, 'N': 39, 'O': 40, 'P': 41, 'Q': 42, 'R': 43, 'S': 44, 'T': 45, 'U': 46, 'V': 47, 'W': 48, 'X': 49, 'Y': 50, 'Z': 51, '[': 52, ']': 53, '^': 54, '_': 55, 'a': 56, 'b': 57, 'c': 58, 'd': 59, 'e': 60, 'f': 61, 'g': 62, 'h': 63, 'i': 64, 'j': 65, 'k': 66, 'l': 67, 'm': 68, 'n': 69, 'o': 70, 'p': 71, 'q': 72, 'r': 73, 's': 74, 't': 75, 'u': 76, 'v': 77, 'w': 78, 'x': 79, 'y': 80, 'z': 81, '|': 82}\n",
            "['\\n' ' ' '!' '\"' '#' \"'\" '(' ')' ',' '-' '.' '/' '0' '1' '2' '3' '4' '5'\n",
            " '6' '7' '8' '9' ':' '<' '=' '>' 'A' 'B' 'C' 'D' 'E' 'F' 'G' 'H' 'I' 'J'\n",
            " 'K' 'L' 'M' 'N' 'O' 'P' 'Q' 'R' 'S' 'T' 'U' 'V' 'W' 'X' 'Y' 'Z' '[' ']'\n",
            " '^' '_' 'a' 'b' 'c' 'd' 'e' 'f' 'g' 'h' 'i' 'j' 'k' 'l' 'm' 'n' 'o' 'p'\n",
            " 'q' 'r' 's' 't' 'u' 'v' 'w' 'x' 'y' 'z' '|']\n"
          ]
        }
      ]
    },
    {
      "cell_type": "markdown",
      "source": [
        "Now that we have numerical mappings for characters in the input data. Let's vectorize the whole input."
      ],
      "metadata": {
        "id": "jpiOao0LAGwA"
      }
    },
    {
      "cell_type": "code",
      "source": [
        "def vectorize_song(songs_compiled):\n",
        "  output = []\n",
        "  for ch in songs_compiled:\n",
        "    output.append(char2index[ch])\n",
        "  return np.array(output)\n",
        "\n",
        "vectorized_songs = vectorize_song(songs_compiled)\n"
      ],
      "metadata": {
        "id": "b4o4TO7S_z0d"
      },
      "execution_count": null,
      "outputs": []
    },
    {
      "cell_type": "code",
      "source": [
        "len(vectorized_songs)"
      ],
      "metadata": {
        "colab": {
          "base_uri": "https://localhost:8080/"
        },
        "id": "ngz0RmW5Ep3h",
        "outputId": "5e1f9a1e-5383-4454-ae35-22d818f85902"
      },
      "execution_count": null,
      "outputs": [
        {
          "output_type": "execute_result",
          "data": {
            "text/plain": [
              "200679"
            ]
          },
          "metadata": {},
          "execution_count": 12
        }
      ]
    },
    {
      "cell_type": "code",
      "source": [
        "def get_batch(vectorized_songs, seq_length, batch_size):\n",
        "  n = len(vectorized_songs)\n",
        "  rng = np.random.default_rng()\n",
        "  index = rng.choice(n - seq_length - 1, batch_size)\n",
        "  # print(index)\n",
        "  # print(index.shape)\n",
        "  # print(type(index))\n",
        "  input_batch = np.ndarray(shape=(batch_size, seq_length))\n",
        "  output_batch = np.ndarray(shape=(batch_size, seq_length))\n",
        "\n",
        "  for i in range(batch_size):\n",
        "    input_batch[i] = vectorized_songs[index[i]:index[i] + seq_length]\n",
        "    output_batch[i] = vectorized_songs[index[i] + 1: index[i] + seq_length + 1]\n",
        "\n",
        "  return input_batch, output_batch\n",
        "  # return x_batch, y_batch\n",
        "\n",
        "# Perform some simple tests to make sure your batch function is working properly!\n",
        "test_args = (vectorized_songs, 10, 2)\n",
        "if not mdl.lab1.test_batch_func_types(get_batch, test_args) or \\\n",
        "   not mdl.lab1.test_batch_func_shapes(get_batch, test_args) or \\\n",
        "   not mdl.lab1.test_batch_func_next_step(get_batch, test_args):\n",
        "   print(\"======\\n[FAIL] could not pass tests\")\n",
        "else:\n",
        "   print(\"======\\n[PASS] passed all tests!\")"
      ],
      "metadata": {
        "colab": {
          "base_uri": "https://localhost:8080/"
        },
        "id": "DwVFTNE_GH2S",
        "outputId": "7a77e566-ca2d-4e5c-c848-ac180319d652"
      },
      "execution_count": null,
      "outputs": [
        {
          "output_type": "stream",
          "name": "stdout",
          "text": [
            "[PASS] test_batch_func_types\n",
            "[PASS] test_batch_func_shapes\n",
            "[PASS] test_batch_func_next_step\n",
            "======\n",
            "[PASS] passed all tests!\n"
          ]
        }
      ]
    },
    {
      "cell_type": "code",
      "source": [
        "x_batch, y_batch = get_batch(vectorized_songs, seq_length=5, batch_size=1)\n",
        "\n",
        "for i, (input_idx, target_idx) in enumerate(zip(np.squeeze(x_batch), np.squeeze(y_batch))):\n",
        "    # print(type(input_idx))\n",
        "    print(\"Step {:3d}\".format(i))\n",
        "    print(\"  expected output: {} ({:s})\".format(target_idx, repr(index2char[int(target_idx)])))\n",
        "    print(\"  input: {} ({:s})\".format(input_idx, repr(index2char[int(input_idx)])))\n",
        "    print(\"  expected output: {} ({:s})\".format(target_idx, repr(index2char[int(target_idx)])))"
      ],
      "metadata": {
        "colab": {
          "base_uri": "https://localhost:8080/"
        },
        "id": "ncjQbZZ_0GR3",
        "outputId": "1807b06f-54e3-40b7-cc98-dff764983a38"
      },
      "execution_count": null,
      "outputs": [
        {
          "output_type": "stream",
          "name": "stdout",
          "text": [
            "Step   0\n",
            "  expected output: 60.0 ('e')\n",
            "  input: 36.0 ('K')\n",
            "  expected output: 60.0 ('e')\n",
            "Step   1\n",
            "  expected output: 67.0 ('l')\n",
            "  input: 60.0 ('e')\n",
            "  expected output: 67.0 ('l')\n",
            "Step   2\n",
            "  expected output: 67.0 ('l')\n",
            "  input: 67.0 ('l')\n",
            "  expected output: 67.0 ('l')\n",
            "Step   3\n",
            "  expected output: 80.0 ('y')\n",
            "  input: 67.0 ('l')\n",
            "  expected output: 80.0 ('y')\n",
            "Step   4\n",
            "  expected output: 5.0 (\"'\")\n",
            "  input: 80.0 ('y')\n",
            "  expected output: 5.0 (\"'\")\n"
          ]
        }
      ]
    },
    {
      "cell_type": "markdown",
      "source": [
        "Now that we have our data prepared for feeding into a deep learning model. We can start working on an actual prediction model. We will implement Recurrent Neural Network model using LSTM (Long Short Term Memory) architecture.\n",
        "We will use Sequential API and implement the following layers in our model:\n",
        "\n",
        "- Embedding layer - this layer converts integer index values into fixed length dense vectors.\n",
        "- LSTM - this is the RNN layer which learns the pattern given in the input sequence.\n",
        "- Dense - after the LSTM layer, we spread its output into dense layer to expand its learning ability."
      ],
      "metadata": {
        "id": "m-DHHztSCRRP"
      }
    },
    {
      "cell_type": "code",
      "source": [
        "def build_model(vocab_size, embedding_dim, rnn_units, batch_size):\n",
        "  model = tf.keras.Sequential()\n",
        "\n",
        "  model.add(tf.keras.layers.Embedding(\n",
        "      input_dim=vocab_size, output_dim=embedding_dim, batch_input_shape=[batch_size, None]\n",
        "  ))\n",
        "\n",
        "  model.add(tf.keras.layers.LSTM(\n",
        "      rnn_units,\n",
        "      return_sequences=True,\n",
        "      recurrent_initializer='glorot_uniform',\n",
        "      recurrent_activation='sigmoid',\n",
        "      stateful=True\n",
        "  ))\n",
        "\n",
        "  model.add(tf.keras.layers.Dense(vocab_size))\n",
        "  # model.add(tf.keras.layers.)\n",
        "\n",
        "  return model\n",
        "\n",
        "model = build_model(len(vocab), 256, 1024, 32)"
      ],
      "metadata": {
        "id": "LIpv_93I9Ed3"
      },
      "execution_count": null,
      "outputs": []
    },
    {
      "cell_type": "code",
      "source": [
        "model.summary()"
      ],
      "metadata": {
        "colab": {
          "base_uri": "https://localhost:8080/"
        },
        "id": "gCLn3CT3OmgG",
        "outputId": "daca8889-ac01-4fd3-dc85-bfee704d725a"
      },
      "execution_count": null,
      "outputs": [
        {
          "output_type": "stream",
          "name": "stdout",
          "text": [
            "Model: \"sequential_1\"\n",
            "_________________________________________________________________\n",
            " Layer (type)                Output Shape              Param #   \n",
            "=================================================================\n",
            " embedding_1 (Embedding)     (32, None, 256)           21248     \n",
            "                                                                 \n",
            " lstm_1 (LSTM)               (32, None, 1024)          5246976   \n",
            "                                                                 \n",
            " dense_1 (Dense)             (32, None, 83)            85075     \n",
            "                                                                 \n",
            "=================================================================\n",
            "Total params: 5,353,299\n",
            "Trainable params: 5,353,299\n",
            "Non-trainable params: 0\n",
            "_________________________________________________________________\n"
          ]
        }
      ]
    },
    {
      "cell_type": "code",
      "source": [
        "tf.keras.utils.plot_model(model, show_shapes=True)"
      ],
      "metadata": {
        "colab": {
          "base_uri": "https://localhost:8080/",
          "height": 422
        },
        "id": "N-40KMS_O2qX",
        "outputId": "4e983d33-c8a3-4fbe-e07d-610abe67382b"
      },
      "execution_count": null,
      "outputs": [
        {
          "output_type": "execute_result",
          "data": {
            "image/png": "[encoded data removed]",
            "text/plain": [
              "<IPython.core.display.Image object>"
            ]
          },
          "metadata": {},
          "execution_count": 19
        }
      ]
    },
    {
      "cell_type": "code",
      "source": [
        "X, y = get_batch(vectorized_songs, 100, 32)\n",
        "pred = model.predict(X)"
      ],
      "metadata": {
        "colab": {
          "base_uri": "https://localhost:8080/"
        },
        "id": "A5AkF7d0yk7r",
        "outputId": "91666b04-a125-4a32-9d14-04c8e029ef2a"
      },
      "execution_count": null,
      "outputs": [
        {
          "output_type": "stream",
          "name": "stdout",
          "text": [
            "1/1 [==============================] - 3s 3s/step\n"
          ]
        }
      ]
    },
    {
      "cell_type": "code",
      "source": [
        "print(pred.shape)\n",
        "print(y.shape)"
      ],
      "metadata": {
        "colab": {
          "base_uri": "https://localhost:8080/"
        },
        "id": "YM75lxtI0saa",
        "outputId": "756c0aa2-7dca-4a30-fb94-ff57270415b0"
      },
      "execution_count": null,
      "outputs": [
        {
          "output_type": "stream",
          "name": "stdout",
          "text": [
            "(32, 100, 83)\n",
            "(32, 100)\n"
          ]
        }
      ]
    },
    {
      "cell_type": "code",
      "source": [
        "x, y = get_batch(vectorized_songs, seq_length=100, batch_size=32)\n",
        "pred = model(x)\n",
        "print(\"Input shape:      \", x.shape, \" # (batch_size, sequence_length)\")\n",
        "print(\"Prediction shape: \", pred.shape, \"# (batch_size, sequence_length, vocab_size)\")"
      ],
      "metadata": {
        "colab": {
          "base_uri": "https://localhost:8080/"
        },
        "id": "sMUxn36_1b4Y",
        "outputId": "02c8a9fb-2c24-41dc-c895-748987a8d6cb"
      },
      "execution_count": null,
      "outputs": [
        {
          "output_type": "stream",
          "name": "stdout",
          "text": [
            "Input shape:       (32, 100)  # (batch_size, sequence_length)\n",
            "Prediction shape:  (32, 100, 83) # (batch_size, sequence_length, vocab_size)\n"
          ]
        }
      ]
    },
    {
      "cell_type": "code",
      "source": [
        "\n",
        "sampled_indices = tf.random.categorical(pred[0], num_samples=1)\n",
        "sampled_indices = tf.squeeze(sampled_indices,axis=-1).numpy()\n",
        "sampled_indices"
      ],
      "metadata": {
        "colab": {
          "base_uri": "https://localhost:8080/"
        },
        "id": "5S6P0xh51exg",
        "outputId": "91dff810-6fe4-4641-92ba-779e99d55ff4"
      },
      "execution_count": null,
      "outputs": [
        {
          "output_type": "execute_result",
          "data": {
            "text/plain": [
              "array([47, 80, 64, 13, 59, 38, 19, 46,  2, 25, 47, 69, 57, 29, 55, 10,  1,\n",
              "       58,  0, 62, 23, 18, 65, 39, 23, 60, 69, 26, 58, 35, 15, 43, 19, 19,\n",
              "       28, 18, 61, 79, 64, 41, 44, 57, 82, 31, 32, 41, 46,  3, 78, 30, 31,\n",
              "       39, 66, 64, 37, 42, 19, 61,  4, 74, 34, 23, 15, 75,  3, 38, 76, 43,\n",
              "       74, 68, 78, 54, 25, 80, 15, 76, 66,  0, 72, 55, 36, 74, 75,  0, 28,\n",
              "       61, 48, 30, 10, 49, 66, 69,  0, 76, 60, 54, 60, 15,  1, 41])"
            ]
          },
          "metadata": {},
          "execution_count": 23
        }
      ]
    },
    {
      "cell_type": "code",
      "source": [
        "# print(X[0])\n",
        "print(\"Input: \\n\", repr(\"\".join(index2char[list(map(int, X[0]))])))\n",
        "print()\n",
        "print(\"Next Char Predictions: \\n\", repr(\"\".join(index2char[sampled_indices])))"
      ],
      "metadata": {
        "colab": {
          "base_uri": "https://localhost:8080/"
        },
        "id": "Jm4-SKWd4gI7",
        "outputId": "0e82561e-f66a-4c0f-abc5-38fdcd25c613"
      },
      "execution_count": null,
      "outputs": [
        {
          "output_type": "stream",
          "name": "stdout",
          "text": [
            "Input: \n",
            " \"G|Bdef g2fg|!\\na^gab a=ged|^cdef gfgb|afge dBGB|AcBG A2:|!\\n\\nX:350\\nT:Sweeney's Dream\\nZ: id:dc-reel-326\"\n",
            "\n",
            "Next Char Predictions: \n",
            " 'Vyi1dM7U!>VnbD_. c\\ng<6jN<enAcJ3R77C6fxiPSb|FGPU\"wEFNkiLQ7f#sI<3t\"MuRsmw^>y3uk\\nq_Kst\\nCfWE.Xkn\\nue^e3 P'\n"
          ]
        }
      ]
    },
    {
      "cell_type": "code",
      "source": [
        "loss = tf.keras.losses.sparse_categorical_crossentropy(\n",
        "    y, pred, from_logits = True\n",
        ")\n",
        "\n",
        "print(loss.numpy().shape)"
      ],
      "metadata": {
        "colab": {
          "base_uri": "https://localhost:8080/"
        },
        "id": "3ONErjhP5hOU",
        "outputId": "ea597477-44e5-4812-fdec-aeebe9543bb6"
      },
      "execution_count": null,
      "outputs": [
        {
          "output_type": "stream",
          "name": "stdout",
          "text": [
            "(32, 100)\n"
          ]
        }
      ]
    },
    {
      "cell_type": "markdown",
      "source": [
        "Defining hyperparameters for training model.\n",
        "- epochs: the number of iterations over whole data\n",
        "- batch_size: the size of each minibatch i.e. the number of random indices from input\n",
        "- learning_rate: learning rate or alpha"
      ],
      "metadata": {
        "id": "6k-GY3BP5a5D"
      }
    },
    {
      "cell_type": "code",
      "source": [
        "epochs = 2000\n",
        "batch_size = 4\n",
        "seq_length = 100\n",
        "learning_rate = 1e-3"
      ],
      "metadata": {
        "id": "3QKsdxoZ5ZIm"
      },
      "execution_count": null,
      "outputs": []
    },
    {
      "cell_type": "code",
      "source": [],
      "metadata": {
        "id": "E7v36t8_6Ajt"
      },
      "execution_count": null,
      "outputs": []
    }
  ]
}