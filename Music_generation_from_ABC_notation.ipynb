{
  "nbformat": 4,
  "nbformat_minor": 0,
  "metadata": {
    "colab": {
      "provenance": [],
      "gpuType": "T4",
      "mount_file_id": "1xepslWtUamCDjphr3AZOe928ak6_m_4I",
      "authorship_tag": "ABX9TyOST1bgeZqWV7m9F1rmlyc/",
      "include_colab_link": true
    },
    "kernelspec": {
      "name": "python3",
      "display_name": "Python 3"
    },
    "language_info": {
      "name": "python"
    }
  },
  "cells": [
    {
      "cell_type": "markdown",
      "metadata": {
        "id": "view-in-github",
        "colab_type": "text"
      },
      "source": [
        "<a href=\"https://colab.research.google.com/github/rahulsiloniya/Music-Synthesis-with-Deep-Learning/blob/main/Music_generation_from_ABC_notation.ipynb\" target=\"_parent\"><img src=\"https://colab.research.google.com/assets/colab-badge.svg\" alt=\"Open In Colab\"/></a>"
      ]
    },
    {
      "cell_type": "markdown",
      "source": [
        "# Music generation using RNN Model"
      ],
      "metadata": {
        "id": "tGbO9qACpHea"
      }
    },
    {
      "cell_type": "markdown",
      "source": [
        "Import all python modules and MIT deep learning library."
      ],
      "metadata": {
        "id": "0qDBtgk0pR4Z"
      }
    },
    {
      "cell_type": "code",
      "source": [
        "from IPython.display import display"
      ],
      "metadata": {
        "id": "YuitcTif4oG2"
      },
      "execution_count": 295,
      "outputs": []
    },
    {
      "cell_type": "code",
      "execution_count": 296,
      "metadata": {
        "id": "lSmILXqnm4HA"
      },
      "outputs": [],
      "source": [
        "import tensorflow as tf\n",
        "\n",
        "!pip install mitdeeplearning > /dev/null 2>&1\n",
        "import mitdeeplearning as mdl\n",
        "\n",
        "import numpy as np\n",
        "from tqdm import tqdm\n",
        "import time\n",
        "import os\n",
        "import functools"
      ]
    },
    {
      "cell_type": "code",
      "source": [
        "import warnings\n",
        "warnings.filterwarnings(action='ignore')"
      ],
      "metadata": {
        "id": "sw8RHCD9qrpP"
      },
      "execution_count": 297,
      "outputs": []
    },
    {
      "cell_type": "markdown",
      "source": [
        "Install package to convert ABC music notation to MIDI music files."
      ],
      "metadata": {
        "id": "iZZ59yLZpZ-D"
      }
    },
    {
      "cell_type": "code",
      "source": [
        "# !apt-get install abcmidi timidity > /dev/null 2>&1"
      ],
      "metadata": {
        "id": "EOKRdktQoMwm"
      },
      "execution_count": 298,
      "outputs": []
    },
    {
      "cell_type": "markdown",
      "source": [
        "Download data"
      ],
      "metadata": {
        "id": "97O_-zOtqAfA"
      }
    },
    {
      "cell_type": "code",
      "source": [
        "songs = mdl.lab1.load_training_data()"
      ],
      "metadata": {
        "colab": {
          "base_uri": "https://localhost:8080/"
        },
        "id": "ihKdkDZSqEmU",
        "outputId": "9907d8bb-0613-49d3-c011-0ebc2b6a7c83"
      },
      "execution_count": 286,
      "outputs": [
        {
          "output_type": "stream",
          "name": "stdout",
          "text": [
            "Found 817 songs in text\n"
          ]
        }
      ]
    },
    {
      "cell_type": "code",
      "source": [
        "print(type(songs))\n",
        "print(type(songs[0]))"
      ],
      "metadata": {
        "colab": {
          "base_uri": "https://localhost:8080/"
        },
        "id": "F6P4zoGiqXKu",
        "outputId": "3be330a4-82e2-46c2-af52-7a2969db9061"
      },
      "execution_count": 287,
      "outputs": [
        {
          "output_type": "stream",
          "name": "stdout",
          "text": [
            "<class 'list'>\n",
            "<class 'str'>\n"
          ]
        }
      ]
    },
    {
      "cell_type": "markdown",
      "source": [
        "Here we have textual data in ABC notation which represents Irish folk music. It is provided as a list of strings as input in the mdl module. It also provides functions to convert it into audio files."
      ],
      "metadata": {
        "id": "s-pScTCBq4kY"
      }
    },
    {
      "cell_type": "code",
      "source": [
        "# mdl.lab1.play_song(songs[0])"
      ],
      "metadata": {
        "id": "cFF71ICcrDop"
      },
      "execution_count": 299,
      "outputs": []
    },
    {
      "cell_type": "markdown",
      "source": [
        "The number of unique characters affect the complexity of the problem at hand. Counting the number of unique characters will provide us some basic insight."
      ],
      "metadata": {
        "id": "RlEksQOKuszu"
      }
    },
    {
      "cell_type": "code",
      "source": [
        "# compile all songs in one string\n",
        "\n",
        "songs_compiled = '\\n\\n'.join(songs)\n",
        "vocab = sorted(set(songs_compiled))\n",
        "print('Total unique characters : ', len(vocab))"
      ],
      "metadata": {
        "colab": {
          "base_uri": "https://localhost:8080/"
        },
        "id": "CTKIoanRucZR",
        "outputId": "561b06cf-cf3d-4e3a-b59e-0990c87ff44c"
      },
      "execution_count": 289,
      "outputs": [
        {
          "output_type": "stream",
          "name": "stdout",
          "text": [
            "Total unique characters :  83\n"
          ]
        }
      ]
    },
    {
      "cell_type": "markdown",
      "source": [
        "Since the ABC notation is a textual data, we need to vectorize it to create a numerical representation of the input."
      ],
      "metadata": {
        "id": "La9-Ty9Q9xAj"
      }
    },
    {
      "cell_type": "code",
      "source": [
        "char2index = {u:i for i, u in enumerate(vocab)}\n",
        "index2char = np.array(vocab)\n",
        "print(char2index)\n",
        "print(index2char)"
      ],
      "metadata": {
        "colab": {
          "base_uri": "https://localhost:8080/"
        },
        "id": "QJdzAOp_vtEy",
        "outputId": "17e33e35-07fd-4aa8-ad39-03682a805924"
      },
      "execution_count": 290,
      "outputs": [
        {
          "output_type": "stream",
          "name": "stdout",
          "text": [
            "{'\\n': 0, ' ': 1, '!': 2, '\"': 3, '#': 4, \"'\": 5, '(': 6, ')': 7, ',': 8, '-': 9, '.': 10, '/': 11, '0': 12, '1': 13, '2': 14, '3': 15, '4': 16, '5': 17, '6': 18, '7': 19, '8': 20, '9': 21, ':': 22, '<': 23, '=': 24, '>': 25, 'A': 26, 'B': 27, 'C': 28, 'D': 29, 'E': 30, 'F': 31, 'G': 32, 'H': 33, 'I': 34, 'J': 35, 'K': 36, 'L': 37, 'M': 38, 'N': 39, 'O': 40, 'P': 41, 'Q': 42, 'R': 43, 'S': 44, 'T': 45, 'U': 46, 'V': 47, 'W': 48, 'X': 49, 'Y': 50, 'Z': 51, '[': 52, ']': 53, '^': 54, '_': 55, 'a': 56, 'b': 57, 'c': 58, 'd': 59, 'e': 60, 'f': 61, 'g': 62, 'h': 63, 'i': 64, 'j': 65, 'k': 66, 'l': 67, 'm': 68, 'n': 69, 'o': 70, 'p': 71, 'q': 72, 'r': 73, 's': 74, 't': 75, 'u': 76, 'v': 77, 'w': 78, 'x': 79, 'y': 80, 'z': 81, '|': 82}\n",
            "['\\n' ' ' '!' '\"' '#' \"'\" '(' ')' ',' '-' '.' '/' '0' '1' '2' '3' '4' '5'\n",
            " '6' '7' '8' '9' ':' '<' '=' '>' 'A' 'B' 'C' 'D' 'E' 'F' 'G' 'H' 'I' 'J'\n",
            " 'K' 'L' 'M' 'N' 'O' 'P' 'Q' 'R' 'S' 'T' 'U' 'V' 'W' 'X' 'Y' 'Z' '[' ']'\n",
            " '^' '_' 'a' 'b' 'c' 'd' 'e' 'f' 'g' 'h' 'i' 'j' 'k' 'l' 'm' 'n' 'o' 'p'\n",
            " 'q' 'r' 's' 't' 'u' 'v' 'w' 'x' 'y' 'z' '|']\n"
          ]
        }
      ]
    },
    {
      "cell_type": "markdown",
      "source": [
        "Now that we have numerical mappings for characters in the input data. Let's vectorize the whole input."
      ],
      "metadata": {
        "id": "jpiOao0LAGwA"
      }
    },
    {
      "cell_type": "code",
      "source": [
        "def vectorize_song(songs_compiled):\n",
        "  output = []\n",
        "  for ch in songs_compiled:\n",
        "    output.append(char2index[ch])\n",
        "  return np.array(output)\n",
        "\n",
        "vectorized_songs = vectorize_song(songs_compiled)\n"
      ],
      "metadata": {
        "id": "b4o4TO7S_z0d"
      },
      "execution_count": 300,
      "outputs": []
    },
    {
      "cell_type": "code",
      "source": [
        "print(type(vectorized_songs[0]))"
      ],
      "metadata": {
        "colab": {
          "base_uri": "https://localhost:8080/"
        },
        "id": "ngz0RmW5Ep3h",
        "outputId": "0df00c73-4d00-44b1-9c19-d240d779c325"
      },
      "execution_count": 292,
      "outputs": [
        {
          "output_type": "stream",
          "name": "stdout",
          "text": [
            "<class 'numpy.int64'>\n"
          ]
        }
      ]
    },
    {
      "cell_type": "code",
      "source": [
        "def get_batch(vectorized_songs, seq_length, batch_size):\n",
        "  n = len(vectorized_songs)\n",
        "  rng = np.random.default_rng()\n",
        "  index = rng.choice(n - seq_length - 1, batch_size)\n",
        "  input_batch = np.ndarray(shape=(batch_size, seq_length)) # , dtype=np.int64)\n",
        "  output_batch = np.ndarray(shape=(batch_size, seq_length)) # , dtype=np.int64)\n",
        "\n",
        "  for i in range(batch_size):\n",
        "    input_batch[i] = vectorized_songs[index[i]:index[i] + seq_length]\n",
        "    output_batch[i] = vectorized_songs[index[i] + 1: index[i] + seq_length + 1]\n",
        "\n",
        "  return input_batch, output_batch\n",
        "  # return x_batch, y_batch\n",
        "\n",
        "# Perform some simple tests to make sure your batch function is working properly!\n",
        "test_args = (vectorized_songs, 10, 2)\n",
        "if not mdl.lab1.test_batch_func_types(get_batch, test_args) or \\\n",
        "   not mdl.lab1.test_batch_func_shapes(get_batch, test_args) or \\\n",
        "   not mdl.lab1.test_batch_func_next_step(get_batch, test_args):\n",
        "   print(\"======\\n[FAIL] could not pass tests\")\n",
        "else:\n",
        "   print(\"======\\n[PASS] passed all tests!\")"
      ],
      "metadata": {
        "colab": {
          "base_uri": "https://localhost:8080/"
        },
        "id": "DwVFTNE_GH2S",
        "outputId": "d7172708-0444-4921-97a9-70c597171367"
      },
      "execution_count": 293,
      "outputs": [
        {
          "output_type": "stream",
          "name": "stdout",
          "text": [
            "[PASS] test_batch_func_types\n",
            "[PASS] test_batch_func_shapes\n",
            "[PASS] test_batch_func_next_step\n",
            "======\n",
            "[PASS] passed all tests!\n"
          ]
        }
      ]
    },
    {
      "cell_type": "code",
      "source": [
        "x_batch, y_batch = get_batch(vectorized_songs, seq_length=5, batch_size=1)\n",
        "\n",
        "for i, (input_idx, target_idx) in enumerate(zip(np.squeeze(x_batch), np.squeeze(y_batch))):\n",
        "    # print(type(input_idx))\n",
        "    print(\"Step {:3d}\".format(i))\n",
        "    print(\"  expected output: {} ({:s})\".format(target_idx, repr(index2char[int(target_idx)])))\n",
        "    print(\"  input: {} ({:s})\".format(input_idx, repr(index2char[int(input_idx)])))\n",
        "    print(\"  expected output: {} ({:s})\".format(target_idx, repr(index2char[int(target_idx)])))"
      ],
      "metadata": {
        "colab": {
          "base_uri": "https://localhost:8080/"
        },
        "id": "ncjQbZZ_0GR3",
        "outputId": "80df7657-49d9-49ee-fb17-ec6a9e5659d9"
      },
      "execution_count": 294,
      "outputs": [
        {
          "output_type": "stream",
          "name": "stdout",
          "text": [
            "Step   0\n",
            "  expected output: 6.0 ('(')\n",
            "  input: 1.0 (' ')\n",
            "  expected output: 6.0 ('(')\n",
            "Step   1\n",
            "  expected output: 15.0 ('3')\n",
            "  input: 6.0 ('(')\n",
            "  expected output: 15.0 ('3')\n",
            "Step   2\n",
            "  expected output: 26.0 ('A')\n",
            "  input: 15.0 ('3')\n",
            "  expected output: 26.0 ('A')\n",
            "Step   3\n",
            "  expected output: 27.0 ('B')\n",
            "  input: 26.0 ('A')\n",
            "  expected output: 27.0 ('B')\n",
            "Step   4\n",
            "  expected output: 58.0 ('c')\n",
            "  input: 27.0 ('B')\n",
            "  expected output: 58.0 ('c')\n"
          ]
        }
      ]
    },
    {
      "cell_type": "markdown",
      "source": [
        "Now that we have our data prepared for feeding into a deep learning model. We can start working on an actual prediction model. We will implement Recurrent Neural Network model using LSTM (Long Short Term Memory) architecture.\n",
        "We will use Sequential API and implement the following layers in our model:\n",
        "\n",
        "- Embedding layer - this layer converts integer index values into fixed length dense vectors.\n",
        "- LSTM - this is the RNN layer which learns the pattern given in the input sequence.\n",
        "- Dense - after the LSTM layer, we spread its output into dense layer to expand its learning ability."
      ],
      "metadata": {
        "id": "m-DHHztSCRRP"
      }
    },
    {
      "cell_type": "code",
      "source": [
        "class Index(tf.keras.layers.Layer):\n",
        "  def __init__(self, index2char):\n",
        "    super(Index, self).__init__()\n",
        "    self.index2char = index2char\n",
        "\n",
        "  def call(self, inputs):\n",
        "    # print('inputs : ', inputs)\n",
        "    indices = tf.map_fn(self.convert_to_char, inputs, dtype=tf.float32)\n",
        "    # print('indices : ', indices)\n",
        "    return indices\n",
        "\n",
        "  def intcast(self, a):\n",
        "    return tf.cast(a, tf.float32)\n",
        "\n",
        "  def convert_to_char(self, index):\n",
        "    # Function to convert an index tensor to a string (character) tensor using index2char mapping\n",
        "    ind = tf.random.categorical(index, num_samples=1)\n",
        "    ind = tf.squeeze(ind, axis=-1)\n",
        "    ind = tf.map_fn(self.intcast, ind, dtype=tf.float32)\n",
        "    print('ind: ', ind)\n",
        "    return ind\n",
        "\n",
        "def build_model(vocab_size, embedding_dim, rnn_units, batch_size):\n",
        "  model = tf.keras.Sequential()\n",
        "\n",
        "  model.add(tf.keras.layers.Embedding(\n",
        "      input_dim=vocab_size, output_dim=embedding_dim, batch_input_shape=[batch_size, None]\n",
        "  ))\n",
        "\n",
        "  model.add(tf.keras.layers.LSTM(\n",
        "      rnn_units,\n",
        "      return_sequences=True,\n",
        "      recurrent_initializer='glorot_uniform',\n",
        "      recurrent_activation='sigmoid',\n",
        "      stateful=True\n",
        "  ))\n",
        "\n",
        "  model.add(tf.keras.layers.Dense(vocab_size))\n",
        "  model.add(Index(index2char))\n",
        "  # model.add(tf.keras.layers.)\n",
        "\n",
        "  return model\n",
        "\n",
        "model = build_model(len(vocab), 256, 1024, 32)"
      ],
      "metadata": {
        "id": "LIpv_93I9Ed3",
        "colab": {
          "base_uri": "https://localhost:8080/"
        },
        "outputId": "4e3e9261-2d7e-4ce5-d608-d674abac24b4"
      },
      "execution_count": 301,
      "outputs": [
        {
          "output_type": "stream",
          "name": "stdout",
          "text": [
            "ind:  Tensor(\"index_103/map/while/map/TensorArrayV2Stack/TensorListStack:0\", shape=(None,), dtype=float32)\n"
          ]
        }
      ]
    },
    {
      "cell_type": "code",
      "source": [
        "model.summary()\n",
        "print(model.layers[0].output)\n",
        "print(model.layers[1].output)\n",
        "print(model.layers[2].output)\n",
        "print(model.layers[3].output)"
      ],
      "metadata": {
        "colab": {
          "base_uri": "https://localhost:8080/"
        },
        "id": "gCLn3CT3OmgG",
        "outputId": "d3dbdbf6-9824-4e70-b552-b5a768c2ddf3"
      },
      "execution_count": 302,
      "outputs": [
        {
          "output_type": "stream",
          "name": "stdout",
          "text": [
            "Model: \"sequential_110\"\n",
            "_________________________________________________________________\n",
            " Layer (type)                Output Shape              Param #   \n",
            "=================================================================\n",
            " embedding_110 (Embedding)   (32, None, 256)           21248     \n",
            "                                                                 \n",
            " lstm_110 (LSTM)             (32, None, 1024)          5246976   \n",
            "                                                                 \n",
            " dense_110 (Dense)           (32, None, 83)            85075     \n",
            "                                                                 \n",
            " index_103 (Index)           (32, None)                0         \n",
            "                                                                 \n",
            "=================================================================\n",
            "Total params: 5,353,299\n",
            "Trainable params: 5,353,299\n",
            "Non-trainable params: 0\n",
            "_________________________________________________________________\n",
            "KerasTensor(type_spec=TensorSpec(shape=(32, None, 256), dtype=tf.float32, name=None), name='embedding_110/embedding_lookup/Identity_1:0', description=\"created by layer 'embedding_110'\")\n",
            "KerasTensor(type_spec=TensorSpec(shape=(32, None, 1024), dtype=tf.float32, name=None), name='lstm_110/PartitionedCall:1', description=\"created by layer 'lstm_110'\")\n",
            "KerasTensor(type_spec=TensorSpec(shape=(32, None, 83), dtype=tf.float32, name=None), name='dense_110/BiasAdd:0', description=\"created by layer 'dense_110'\")\n",
            "KerasTensor(type_spec=TensorSpec(shape=(32, None), dtype=tf.float32, name=None), name='index_103/map/TensorArrayV2Stack/TensorListStack:0', description=\"created by layer 'index_103'\")\n"
          ]
        }
      ]
    },
    {
      "cell_type": "code",
      "source": [
        "tf.keras.utils.plot_model(model, show_shapes=True)"
      ],
      "metadata": {
        "colab": {
          "base_uri": "https://localhost:8080/",
          "height": 533
        },
        "id": "N-40KMS_O2qX",
        "outputId": "833e96dd-2279-4152-bd03-8ee8f29eafcb"
      },
      "execution_count": 303,
      "outputs": [
        {
          "output_type": "execute_result",
          "data": {
            "image/png": "[encoded data removed]",
            "text/plain": [
              "<IPython.core.display.Image object>"
            ]
          },
          "metadata": {},
          "execution_count": 303
        }
      ]
    },
    {
      "cell_type": "markdown",
      "source": [
        "Add an extra layer in the model which takes the input from the dense layer and returns index of sequence length."
      ],
      "metadata": {
        "id": "YR-vbcfahqoj"
      }
    },
    {
      "cell_type": "code",
      "source": [
        "model = build_model(len(vocab), 256, 1024, 10)\n",
        "X, y = get_batch(vectorized_songs, 2, 10)\n",
        "pred = model.predict(X)\n",
        "print(\"Input shape:      \", X.shape, \" # (batch_size, sequence_length)\")\n",
        "print(\"Prediction shape: \", pred.shape, \"# (batch_size, sequence_length, vocab_size)\")\n",
        "print(y)\n",
        "print(pred)"
      ],
      "metadata": {
        "colab": {
          "base_uri": "https://localhost:8080/"
        },
        "id": "sMUxn36_1b4Y",
        "outputId": "8bea37e7-9bf7-4070-ca41-35170d9dbac3"
      },
      "execution_count": 304,
      "outputs": [
        {
          "output_type": "stream",
          "name": "stdout",
          "text": [
            "ind:  Tensor(\"index_104/map/while/map/TensorArrayV2Stack/TensorListStack:0\", shape=(None,), dtype=float32)\n",
            "ind:  Tensor(\"sequential_111/index_104/map/while/map/TensorArrayV2Stack/TensorListStack:0\", shape=(2,), dtype=float32)\n",
            "1/1 [==============================] - 1s 610ms/step\n",
            "Input shape:       (10, 2)  # (batch_size, sequence_length)\n",
            "Prediction shape:  (10, 2) # (batch_size, sequence_length, vocab_size)\n",
            "[[31. 14.]\n",
            " [59. 58.]\n",
            " [ 1. 32.]\n",
            " [21.  0.]\n",
            " [ 9. 78.]\n",
            " [27. 62.]\n",
            " [31. 26.]\n",
            " [ 9. 73.]\n",
            " [ 1. 32.]\n",
            " [44. 63.]]\n",
            "[[49. 60.]\n",
            " [72. 37.]\n",
            " [15. 70.]\n",
            " [ 6. 51.]\n",
            " [60. 19.]\n",
            " [71. 28.]\n",
            " [81. 47.]\n",
            " [80. 75.]\n",
            " [18. 69.]\n",
            " [53. 39.]]\n"
          ]
        }
      ]
    },
    {
      "cell_type": "code",
      "source": [
        "# print(X)\n",
        "print(y.shape)\n",
        "print(y)\n",
        "print(pred.shape)\n",
        "print(pred)\n",
        "# for i in pred:\n",
        "#   print(i.shape)\n",
        "#   sampled_indices = tf.random.categorical(i, num_samples=1)\n",
        "#   sampled_indices = tf.squeeze(sampled_indices,axis=-1).numpy\n",
        "#   # sampled_indices.numpy\n",
        "\n",
        "#   print(sampled_indices)"
      ],
      "metadata": {
        "colab": {
          "base_uri": "https://localhost:8080/"
        },
        "id": "5S6P0xh51exg",
        "outputId": "4715209a-a32f-4561-c340-bc6fc3c67fb3"
      },
      "execution_count": 309,
      "outputs": [
        {
          "output_type": "stream",
          "name": "stdout",
          "text": [
            "(10, 2)\n",
            "[[31. 14.]\n",
            " [59. 58.]\n",
            " [ 1. 32.]\n",
            " [21.  0.]\n",
            " [ 9. 78.]\n",
            " [27. 62.]\n",
            " [31. 26.]\n",
            " [ 9. 73.]\n",
            " [ 1. 32.]\n",
            " [44. 63.]]\n",
            "(10, 2)\n",
            "[[49. 60.]\n",
            " [72. 37.]\n",
            " [15. 70.]\n",
            " [ 6. 51.]\n",
            " [60. 19.]\n",
            " [71. 28.]\n",
            " [81. 47.]\n",
            " [80. 75.]\n",
            " [18. 69.]\n",
            " [53. 39.]]\n"
          ]
        }
      ]
    },
    {
      "cell_type": "code",
      "source": [
        "# print(X[0])\n",
        "# print(\"Input: \\n\", repr(\"\".join(index2char[list(map(int, X[0]))])))\n",
        "# print()\n",
        "# print(\"Next Char Predictions: \\n\", repr(\"\".join(index2char[sampled_indices])))"
      ],
      "metadata": {
        "id": "Jm4-SKWd4gI7"
      },
      "execution_count": 306,
      "outputs": []
    },
    {
      "cell_type": "code",
      "source": [
        "pred = tf.reshape(pred, shape=[10,2])\n",
        "loss = tf.keras.losses.sparse_categorical_crossentropy(\n",
        "    y, pred, from_logits = True\n",
        ")\n",
        "\n",
        "print(loss.numpy().shape)"
      ],
      "metadata": {
        "colab": {
          "base_uri": "https://localhost:8080/",
          "height": 624
        },
        "id": "3ONErjhP5hOU",
        "outputId": "07413fb8-7a55-4499-8604-fab016f03560"
      },
      "execution_count": 316,
      "outputs": [
        {
          "output_type": "error",
          "ename": "ValueError",
          "evalue": "ignored",
          "traceback": [
            "\u001b[0;31m---------------------------------------------------------------------------\u001b[0m",
            "\u001b[0;31mValueError\u001b[0m                                Traceback (most recent call last)",
            "\u001b[0;32m<ipython-input-316-fb5f7f703577>\u001b[0m in \u001b[0;36m<cell line: 2>\u001b[0;34m()\u001b[0m\n\u001b[1;32m      1\u001b[0m \u001b[0mpred\u001b[0m \u001b[0;34m=\u001b[0m \u001b[0mtf\u001b[0m\u001b[0;34m.\u001b[0m\u001b[0mreshape\u001b[0m\u001b[0;34m(\u001b[0m\u001b[0mpred\u001b[0m\u001b[0;34m,\u001b[0m \u001b[0mshape\u001b[0m\u001b[0;34m=\u001b[0m\u001b[0;34m[\u001b[0m\u001b[0;36m10\u001b[0m\u001b[0;34m,\u001b[0m\u001b[0;36m2\u001b[0m\u001b[0;34m]\u001b[0m\u001b[0;34m)\u001b[0m\u001b[0;34m\u001b[0m\u001b[0;34m\u001b[0m\u001b[0m\n\u001b[0;32m----> 2\u001b[0;31m loss = tf.keras.losses.sparse_categorical_crossentropy(\n\u001b[0m\u001b[1;32m      3\u001b[0m     \u001b[0my\u001b[0m\u001b[0;34m,\u001b[0m \u001b[0mpred\u001b[0m\u001b[0;34m,\u001b[0m \u001b[0mfrom_logits\u001b[0m \u001b[0;34m=\u001b[0m \u001b[0;32mTrue\u001b[0m\u001b[0;34m\u001b[0m\u001b[0;34m\u001b[0m\u001b[0m\n\u001b[1;32m      4\u001b[0m )\n\u001b[1;32m      5\u001b[0m \u001b[0;34m\u001b[0m\u001b[0m\n",
            "\u001b[0;32m/usr/local/lib/python3.10/dist-packages/tensorflow/python/util/traceback_utils.py\u001b[0m in \u001b[0;36merror_handler\u001b[0;34m(*args, **kwargs)\u001b[0m\n\u001b[1;32m    151\u001b[0m     \u001b[0;32mexcept\u001b[0m \u001b[0mException\u001b[0m \u001b[0;32mas\u001b[0m \u001b[0me\u001b[0m\u001b[0;34m:\u001b[0m\u001b[0;34m\u001b[0m\u001b[0;34m\u001b[0m\u001b[0m\n\u001b[1;32m    152\u001b[0m       \u001b[0mfiltered_tb\u001b[0m \u001b[0;34m=\u001b[0m \u001b[0m_process_traceback_frames\u001b[0m\u001b[0;34m(\u001b[0m\u001b[0me\u001b[0m\u001b[0;34m.\u001b[0m\u001b[0m__traceback__\u001b[0m\u001b[0;34m)\u001b[0m\u001b[0;34m\u001b[0m\u001b[0;34m\u001b[0m\u001b[0m\n\u001b[0;32m--> 153\u001b[0;31m       \u001b[0;32mraise\u001b[0m \u001b[0me\u001b[0m\u001b[0;34m.\u001b[0m\u001b[0mwith_traceback\u001b[0m\u001b[0;34m(\u001b[0m\u001b[0mfiltered_tb\u001b[0m\u001b[0;34m)\u001b[0m \u001b[0;32mfrom\u001b[0m \u001b[0;32mNone\u001b[0m\u001b[0;34m\u001b[0m\u001b[0;34m\u001b[0m\u001b[0m\n\u001b[0m\u001b[1;32m    154\u001b[0m     \u001b[0;32mfinally\u001b[0m\u001b[0;34m:\u001b[0m\u001b[0;34m\u001b[0m\u001b[0;34m\u001b[0m\u001b[0m\n\u001b[1;32m    155\u001b[0m       \u001b[0;32mdel\u001b[0m \u001b[0mfiltered_tb\u001b[0m\u001b[0;34m\u001b[0m\u001b[0;34m\u001b[0m\u001b[0m\n",
            "\u001b[0;32m/usr/local/lib/python3.10/dist-packages/keras/losses.py\u001b[0m in \u001b[0;36msparse_categorical_crossentropy\u001b[0;34m(y_true, y_pred, from_logits, axis, ignore_class)\u001b[0m\n\u001b[1;32m   2076\u001b[0m       \u001b[0mSparse\u001b[0m \u001b[0mcategorical\u001b[0m \u001b[0mcrossentropy\u001b[0m \u001b[0mloss\u001b[0m \u001b[0mvalue\u001b[0m\u001b[0;34m.\u001b[0m\u001b[0;34m\u001b[0m\u001b[0;34m\u001b[0m\u001b[0m\n\u001b[1;32m   2077\u001b[0m     \"\"\"\n\u001b[0;32m-> 2078\u001b[0;31m     return backend.sparse_categorical_crossentropy(\n\u001b[0m\u001b[1;32m   2079\u001b[0m         \u001b[0my_true\u001b[0m\u001b[0;34m,\u001b[0m\u001b[0;34m\u001b[0m\u001b[0;34m\u001b[0m\u001b[0m\n\u001b[1;32m   2080\u001b[0m         \u001b[0my_pred\u001b[0m\u001b[0;34m,\u001b[0m\u001b[0;34m\u001b[0m\u001b[0;34m\u001b[0m\u001b[0m\n",
            "\u001b[0;32m/usr/local/lib/python3.10/dist-packages/keras/backend.py\u001b[0m in \u001b[0;36msparse_categorical_crossentropy\u001b[0;34m(target, output, from_logits, axis, ignore_class)\u001b[0m\n\u001b[1;32m   5662\u001b[0m             )\n\u001b[1;32m   5663\u001b[0m     \u001b[0;32melse\u001b[0m\u001b[0;34m:\u001b[0m\u001b[0;34m\u001b[0m\u001b[0;34m\u001b[0m\u001b[0m\n\u001b[0;32m-> 5664\u001b[0;31m         res = tf.nn.sparse_softmax_cross_entropy_with_logits(\n\u001b[0m\u001b[1;32m   5665\u001b[0m             \u001b[0mlabels\u001b[0m\u001b[0;34m=\u001b[0m\u001b[0mtarget\u001b[0m\u001b[0;34m,\u001b[0m \u001b[0mlogits\u001b[0m\u001b[0;34m=\u001b[0m\u001b[0moutput\u001b[0m\u001b[0;34m\u001b[0m\u001b[0;34m\u001b[0m\u001b[0m\n\u001b[1;32m   5666\u001b[0m         )\n",
            "\u001b[0;31mValueError\u001b[0m: `labels.shape` must equal `logits.shape` except for the last dimension. Received: labels.shape=(20,) and logits.shape=(10, 2)"
          ]
        }
      ]
    },
    {
      "cell_type": "markdown",
      "source": [
        "Defining hyperparameters for training model.\n",
        "- epochs: the number of iterations over whole data\n",
        "- batch_size: the size of each minibatch i.e. the number of random indices from input\n",
        "- learning_rate: learning rate or alpha"
      ],
      "metadata": {
        "id": "6k-GY3BP5a5D"
      }
    },
    {
      "cell_type": "code",
      "source": [
        "epochs = 2000\n",
        "batch_size = 4\n",
        "seq_length = 4\n",
        "learning_rate = 1e-3\n",
        "\n",
        "vocab_size = len(vocab)\n",
        "embedding_dim = 256\n",
        "rnn_units = 1024\n",
        "\n",
        "model = build_model(vocab_size, embedding_dim, rnn_units, batch_size)\n",
        "print('Model built')\n",
        "model.compile(loss=tf.keras.losses.SparseCategoricalCrossentropy(from_logits=False),\n",
        "              metrics='sparse_categorical_accuracy',  # sparse_categorical_accuracy\n",
        "              optimizer='Adam')\n",
        "\n",
        "for i in range(1):\n",
        "  x, y = get_batch(vectorized_songs, seq_length, batch_size)\n",
        "  print(x)\n",
        "  print(y)\n",
        "\n",
        "  print(model.layers[0].output)\n",
        "  print(model.layers[1].output)\n",
        "  # model.fit(x, y, batch_size=batch_size)\n",
        "\n",
        "\n",
        "res = model.predict(np.array([[68]]))\n",
        "print(res)"
      ],
      "metadata": {
        "id": "3QKsdxoZ5ZIm",
        "colab": {
          "base_uri": "https://localhost:8080/"
        },
        "outputId": "d0ba0e72-40fc-47e2-b1db-d35ac307d3cc"
      },
      "execution_count": 321,
      "outputs": [
        {
          "output_type": "stream",
          "name": "stdout",
          "text": [
            "ind:  Tensor(\"index_109/map/while/map/TensorArrayV2Stack/TensorListStack:0\", shape=(None,), dtype=float32)\n",
            "Model built\n",
            "[[11. 20.  0. 36.]\n",
            " [61. 15. 59.  1.]\n",
            " [58. 59.  1. 60.]\n",
            " [59. 14. 27. 32.]]\n",
            "[[20.  0. 36. 22.]\n",
            " [15. 59.  1. 62.]\n",
            " [59.  1. 60. 58.]\n",
            " [14. 27. 32.  1.]]\n",
            "KerasTensor(type_spec=TensorSpec(shape=(4, None, 256), dtype=tf.float32, name=None), name='embedding_116/embedding_lookup/Identity_1:0', description=\"created by layer 'embedding_116'\")\n",
            "KerasTensor(type_spec=TensorSpec(shape=(4, None, 1024), dtype=tf.float32, name=None), name='lstm_116/PartitionedCall:1', description=\"created by layer 'lstm_116'\")\n",
            "ind:  Tensor(\"sequential_116/index_109/map/while/map/TensorArrayV2Stack/TensorListStack:0\", shape=(1,), dtype=float32)\n",
            "1/1 [==============================] - 1s 610ms/step\n",
            "[[22.]\n",
            " [78.]\n",
            " [34.]\n",
            " [ 1.]]\n"
          ]
        }
      ]
    }
  ]
}